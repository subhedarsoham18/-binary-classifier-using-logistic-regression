{
  "nbformat": 4,
  "nbformat_minor": 0,
  "metadata": {
    "colab": {
      "provenance": [],
      "authorship_tag": "ABX9TyPH7zguqj1xKSW2LB02UpjG",
      "include_colab_link": true
    },
    "kernelspec": {
      "name": "python3",
      "display_name": "Python 3"
    },
    "language_info": {
      "name": "python"
    }
  },
  "cells": [
    {
      "cell_type": "markdown",
      "metadata": {
        "id": "view-in-github",
        "colab_type": "text"
      },
      "source": [
        "<a href=\"https://colab.research.google.com/github/subhedarsoham18/-binary-classifier-using-logistic-regression/blob/main/tree-based-models.ipynb\" target=\"_parent\"><img src=\"https://colab.research.google.com/assets/colab-badge.svg\" alt=\"Open In Colab\"/></a>"
      ]
    },
    {
      "cell_type": "code",
      "execution_count": 3,
      "metadata": {
        "colab": {
          "base_uri": "https://localhost:8080/"
        },
        "id": "xvOnfvgltOD3",
        "outputId": "eacfa629-440e-4e93-ca7c-5b44dda038e6"
      },
      "outputs": [
        {
          "output_type": "execute_result",
          "data": {
            "text/plain": [
              "(0.7804878048780488,\n",
              " {'0': {'precision': 0.8518518518518519,\n",
              "   'recall': 0.6764705882352942,\n",
              "   'f1-score': 0.7540983606557377,\n",
              "   'support': 102.0},\n",
              "  '1': {'precision': 0.7338709677419355,\n",
              "   'recall': 0.883495145631068,\n",
              "   'f1-score': 0.801762114537445,\n",
              "   'support': 103.0},\n",
              "  'accuracy': 0.7804878048780488,\n",
              "  'macro avg': {'precision': 0.7928614097968937,\n",
              "   'recall': 0.7799828669331811,\n",
              "   'f1-score': 0.7779302375965913,\n",
              "   'support': 205.0},\n",
              "  'weighted avg': {'precision': 0.792573651542967,\n",
              "   'recall': 0.7804878048780488,\n",
              "   'f1-score': 0.7780464906548393,\n",
              "   'support': 205.0}},\n",
              " <graphviz.sources.Source at 0x7807998f8850>)"
            ]
          },
          "metadata": {},
          "execution_count": 3
        }
      ],
      "source": [
        "from sklearn.model_selection import train_test_split\n",
        "from sklearn.tree import DecisionTreeClassifier, export_graphviz\n",
        "from sklearn.metrics import classification_report, accuracy_score\n",
        "from IPython.display import Image\n",
        "import graphviz\n",
        "import pandas as pd\n",
        "\n",
        "# Step 1: Prepare data\n",
        "# Load your data into a pandas DataFrame named 'df' here.\n",
        "df = pd.read_csv('/content/heart.csv')\n",
        "\n",
        "X = df.drop('target', axis=1)\n",
        "y = df['target']\n",
        "\n",
        "# Train/test split\n",
        "X_train, X_test, y_train, y_test = train_test_split(X, y, test_size=0.2, random_state=42)\n",
        "\n",
        "# Train Decision Tree Classifier\n",
        "tree_clf = DecisionTreeClassifier(random_state=42, max_depth=3)  # Starting with controlled depth\n",
        "tree_clf.fit(X_train, y_train)\n",
        "\n",
        "# Predict and evaluate\n",
        "y_pred = tree_clf.predict(X_test)\n",
        "accuracy = accuracy_score(y_test, y_pred)\n",
        "report = classification_report(y_test, y_pred, output_dict=True)\n",
        "\n",
        "# Visualize tree using graphviz\n",
        "dot_data = export_graphviz(\n",
        "    tree_clf, out_file=None,\n",
        "    feature_names=X.columns,\n",
        "    class_names=['No Disease', 'Disease'],\n",
        "    filled=True, rounded=True,\n",
        "    special_characters=True\n",
        ")\n",
        "graph = graphviz.Source(dot_data)\n",
        "\n",
        "accuracy, report, graph"
      ]
    },
    {
      "cell_type": "code",
      "source": [
        "from sklearn.ensemble import RandomForestClassifier\n",
        "\n",
        "# Step 2: Train a Random Forest Classifier\n",
        "rf_clf = RandomForestClassifier(n_estimators=100, random_state=42)\n",
        "rf_clf.fit(X_train, y_train)\n",
        "\n",
        "# Predict and evaluate\n",
        "y_pred_rf = rf_clf.predict(X_test)\n",
        "rf_accuracy = accuracy_score(y_test, y_pred_rf)\n",
        "rf_report = classification_report(y_test, y_pred_rf, output_dict=True)\n",
        "\n",
        "rf_accuracy, rf_report\n"
      ],
      "metadata": {
        "colab": {
          "base_uri": "https://localhost:8080/"
        },
        "id": "B_jA8FPew1Sg",
        "outputId": "ab6d70c6-3855-4fbb-8820-ed3612f07320"
      },
      "execution_count": 4,
      "outputs": [
        {
          "output_type": "execute_result",
          "data": {
            "text/plain": [
              "(0.9853658536585366,\n",
              " {'0': {'precision': 0.9714285714285714,\n",
              "   'recall': 1.0,\n",
              "   'f1-score': 0.9855072463768116,\n",
              "   'support': 102.0},\n",
              "  '1': {'precision': 1.0,\n",
              "   'recall': 0.970873786407767,\n",
              "   'f1-score': 0.9852216748768473,\n",
              "   'support': 103.0},\n",
              "  'accuracy': 0.9853658536585366,\n",
              "  'macro avg': {'precision': 0.9857142857142858,\n",
              "   'recall': 0.9854368932038835,\n",
              "   'f1-score': 0.9853644606268295,\n",
              "   'support': 205.0},\n",
              "  'weighted avg': {'precision': 0.9857839721254356,\n",
              "   'recall': 0.9853658536585366,\n",
              "   'f1-score': 0.9853637641109759,\n",
              "   'support': 205.0}})"
            ]
          },
          "metadata": {},
          "execution_count": 4
        }
      ]
    },
    {
      "cell_type": "code",
      "source": [
        "# Export DOT format and visualize\n",
        "dot_data = export_graphviz(tree_clf, out_file=None, feature_names=X.columns,\n",
        "                           class_names=['No Disease', 'Disease'],\n",
        "                           filled=True, rounded=True, special_characters=True)\n",
        "graphviz.Source(dot_data)"
      ],
      "metadata": {
        "colab": {
          "base_uri": "https://localhost:8080/",
          "height": 619
        },
        "id": "40sq2tKRyngi",
        "outputId": "6bcbf880-c62b-4b65-9baf-8067a7091b71"
      },
      "execution_count": 6,
      "outputs": [
        {
          "output_type": "execute_result",
          "data": {
            "image/svg+xml": "<?xml version=\"1.0\" encoding=\"UTF-8\" standalone=\"no\"?>\n<!DOCTYPE svg PUBLIC \"-//W3C//DTD SVG 1.1//EN\"\n \"http://www.w3.org/Graphics/SVG/1.1/DTD/svg11.dtd\">\n<!-- Generated by graphviz version 2.43.0 (0)\n -->\n<!-- Title: Tree Pages: 1 -->\n<svg width=\"1165pt\" height=\"433pt\"\n viewBox=\"0.00 0.00 1165.00 433.00\" xmlns=\"http://www.w3.org/2000/svg\" xmlns:xlink=\"http://www.w3.org/1999/xlink\">\n<g id=\"graph0\" class=\"graph\" transform=\"scale(1 1) rotate(0) translate(4 429)\">\n<title>Tree</title>\n<polygon fill=\"white\" stroke=\"transparent\" points=\"-4,4 -4,-429 1161,-429 1161,4 -4,4\"/>\n<!-- 0 -->\n<g id=\"node1\" class=\"node\">\n<title>0</title>\n<path fill=\"#f3f9fd\" stroke=\"black\" d=\"M626.5,-425C626.5,-425 525.5,-425 525.5,-425 519.5,-425 513.5,-419 513.5,-413 513.5,-413 513.5,-354 513.5,-354 513.5,-348 519.5,-342 525.5,-342 525.5,-342 626.5,-342 626.5,-342 632.5,-342 638.5,-348 638.5,-354 638.5,-354 638.5,-413 638.5,-413 638.5,-419 632.5,-425 626.5,-425\"/>\n<text text-anchor=\"start\" x=\"551.5\" y=\"-409.8\" font-family=\"Helvetica,sans-Serif\" font-size=\"14.00\">cp ≤ 0.5</text>\n<text text-anchor=\"start\" x=\"540.5\" y=\"-394.8\" font-family=\"Helvetica,sans-Serif\" font-size=\"14.00\">gini = 0.499</text>\n<text text-anchor=\"start\" x=\"531\" y=\"-379.8\" font-family=\"Helvetica,sans-Serif\" font-size=\"14.00\">samples = 820</text>\n<text text-anchor=\"start\" x=\"521.5\" y=\"-364.8\" font-family=\"Helvetica,sans-Serif\" font-size=\"14.00\">value = [397, 423]</text>\n<text text-anchor=\"start\" x=\"528\" y=\"-349.8\" font-family=\"Helvetica,sans-Serif\" font-size=\"14.00\">class = Disease</text>\n</g>\n<!-- 1 -->\n<g id=\"node2\" class=\"node\">\n<title>1</title>\n<path fill=\"#edaa7a\" stroke=\"black\" d=\"M477.5,-306C477.5,-306 368.5,-306 368.5,-306 362.5,-306 356.5,-300 356.5,-294 356.5,-294 356.5,-235 356.5,-235 356.5,-229 362.5,-223 368.5,-223 368.5,-223 477.5,-223 477.5,-223 483.5,-223 489.5,-229 489.5,-235 489.5,-235 489.5,-294 489.5,-294 489.5,-300 483.5,-306 477.5,-306\"/>\n<text text-anchor=\"start\" x=\"398.5\" y=\"-290.8\" font-family=\"Helvetica,sans-Serif\" font-size=\"14.00\">ca ≤ 0.5</text>\n<text text-anchor=\"start\" x=\"387.5\" y=\"-275.8\" font-family=\"Helvetica,sans-Serif\" font-size=\"14.00\">gini = 0.371</text>\n<text text-anchor=\"start\" x=\"378\" y=\"-260.8\" font-family=\"Helvetica,sans-Serif\" font-size=\"14.00\">samples = 398</text>\n<text text-anchor=\"start\" x=\"372.5\" y=\"-245.8\" font-family=\"Helvetica,sans-Serif\" font-size=\"14.00\">value = [300, 98]</text>\n<text text-anchor=\"start\" x=\"364.5\" y=\"-230.8\" font-family=\"Helvetica,sans-Serif\" font-size=\"14.00\">class = No Disease</text>\n</g>\n<!-- 0&#45;&gt;1 -->\n<g id=\"edge1\" class=\"edge\">\n<title>0&#45;&gt;1</title>\n<path fill=\"none\" stroke=\"black\" d=\"M522.92,-341.91C510.46,-332.38 497.08,-322.15 484.29,-312.37\"/>\n<polygon fill=\"black\" stroke=\"black\" points=\"486.06,-309.32 475.99,-306.02 481.81,-314.88 486.06,-309.32\"/>\n<text text-anchor=\"middle\" x=\"479.29\" y=\"-327.1\" font-family=\"Helvetica,sans-Serif\" font-size=\"14.00\">True</text>\n</g>\n<!-- 8 -->\n<g id=\"node9\" class=\"node\">\n<title>8</title>\n<path fill=\"#74baed\" stroke=\"black\" d=\"M777.5,-306C777.5,-306 684.5,-306 684.5,-306 678.5,-306 672.5,-300 672.5,-294 672.5,-294 672.5,-235 672.5,-235 672.5,-229 678.5,-223 684.5,-223 684.5,-223 777.5,-223 777.5,-223 783.5,-223 789.5,-229 789.5,-235 789.5,-235 789.5,-294 789.5,-294 789.5,-300 783.5,-306 777.5,-306\"/>\n<text text-anchor=\"start\" x=\"703\" y=\"-290.8\" font-family=\"Helvetica,sans-Serif\" font-size=\"14.00\">thal ≤ 2.5</text>\n<text text-anchor=\"start\" x=\"695.5\" y=\"-275.8\" font-family=\"Helvetica,sans-Serif\" font-size=\"14.00\">gini = 0.354</text>\n<text text-anchor=\"start\" x=\"686\" y=\"-260.8\" font-family=\"Helvetica,sans-Serif\" font-size=\"14.00\">samples = 422</text>\n<text text-anchor=\"start\" x=\"680.5\" y=\"-245.8\" font-family=\"Helvetica,sans-Serif\" font-size=\"14.00\">value = [97, 325]</text>\n<text text-anchor=\"start\" x=\"683\" y=\"-230.8\" font-family=\"Helvetica,sans-Serif\" font-size=\"14.00\">class = Disease</text>\n</g>\n<!-- 0&#45;&gt;8 -->\n<g id=\"edge8\" class=\"edge\">\n<title>0&#45;&gt;8</title>\n<path fill=\"none\" stroke=\"black\" d=\"M629.78,-341.91C642.52,-332.29 656.21,-321.95 669.28,-312.09\"/>\n<polygon fill=\"black\" stroke=\"black\" points=\"671.45,-314.84 677.32,-306.02 667.23,-309.25 671.45,-314.84\"/>\n<text text-anchor=\"middle\" x=\"673.86\" y=\"-327.08\" font-family=\"Helvetica,sans-Serif\" font-size=\"14.00\">False</text>\n</g>\n<!-- 2 -->\n<g id=\"node3\" class=\"node\">\n<title>2</title>\n<path fill=\"#f8fcfe\" stroke=\"black\" d=\"M241,-187C241,-187 153,-187 153,-187 147,-187 141,-181 141,-175 141,-175 141,-116 141,-116 141,-110 147,-104 153,-104 153,-104 241,-104 241,-104 247,-104 253,-110 253,-116 253,-116 253,-175 253,-175 253,-181 247,-187 241,-187\"/>\n<text text-anchor=\"start\" x=\"169\" y=\"-171.8\" font-family=\"Helvetica,sans-Serif\" font-size=\"14.00\">thal ≤ 2.5</text>\n<text text-anchor=\"start\" x=\"169\" y=\"-156.8\" font-family=\"Helvetica,sans-Serif\" font-size=\"14.00\">gini = 0.5</text>\n<text text-anchor=\"start\" x=\"152\" y=\"-141.8\" font-family=\"Helvetica,sans-Serif\" font-size=\"14.00\">samples = 177</text>\n<text text-anchor=\"start\" x=\"150\" y=\"-126.8\" font-family=\"Helvetica,sans-Serif\" font-size=\"14.00\">value = [87, 90]</text>\n<text text-anchor=\"start\" x=\"149\" y=\"-111.8\" font-family=\"Helvetica,sans-Serif\" font-size=\"14.00\">class = Disease</text>\n</g>\n<!-- 1&#45;&gt;2 -->\n<g id=\"edge2\" class=\"edge\">\n<title>1&#45;&gt;2</title>\n<path fill=\"none\" stroke=\"black\" d=\"M356.41,-229.03C326.68,-213.64 291.75,-195.55 262.18,-180.25\"/>\n<polygon fill=\"black\" stroke=\"black\" points=\"263.68,-177.08 253.19,-175.59 260.46,-183.3 263.68,-177.08\"/>\n</g>\n<!-- 5 -->\n<g id=\"node6\" class=\"node\">\n<title>5</title>\n<path fill=\"#e68640\" stroke=\"black\" d=\"M477.5,-187C477.5,-187 368.5,-187 368.5,-187 362.5,-187 356.5,-181 356.5,-175 356.5,-175 356.5,-116 356.5,-116 356.5,-110 362.5,-104 368.5,-104 368.5,-104 477.5,-104 477.5,-104 483.5,-104 489.5,-110 489.5,-116 489.5,-116 489.5,-175 489.5,-175 489.5,-181 483.5,-187 477.5,-187\"/>\n<text text-anchor=\"start\" x=\"374.5\" y=\"-171.8\" font-family=\"Helvetica,sans-Serif\" font-size=\"14.00\">trestbps ≤ 109.0</text>\n<text text-anchor=\"start\" x=\"391\" y=\"-156.8\" font-family=\"Helvetica,sans-Serif\" font-size=\"14.00\">gini = 0.07</text>\n<text text-anchor=\"start\" x=\"378\" y=\"-141.8\" font-family=\"Helvetica,sans-Serif\" font-size=\"14.00\">samples = 221</text>\n<text text-anchor=\"start\" x=\"376\" y=\"-126.8\" font-family=\"Helvetica,sans-Serif\" font-size=\"14.00\">value = [213, 8]</text>\n<text text-anchor=\"start\" x=\"364.5\" y=\"-111.8\" font-family=\"Helvetica,sans-Serif\" font-size=\"14.00\">class = No Disease</text>\n</g>\n<!-- 1&#45;&gt;5 -->\n<g id=\"edge5\" class=\"edge\">\n<title>1&#45;&gt;5</title>\n<path fill=\"none\" stroke=\"black\" d=\"M423,-222.91C423,-214.65 423,-205.86 423,-197.3\"/>\n<polygon fill=\"black\" stroke=\"black\" points=\"426.5,-197.02 423,-187.02 419.5,-197.02 426.5,-197.02\"/>\n</g>\n<!-- 3 -->\n<g id=\"node4\" class=\"node\">\n<title>3</title>\n<path fill=\"#74baed\" stroke=\"black\" d=\"M100,-68C100,-68 12,-68 12,-68 6,-68 0,-62 0,-56 0,-56 0,-12 0,-12 0,-6 6,0 12,0 12,0 100,0 100,0 106,0 112,-6 112,-12 112,-12 112,-56 112,-56 112,-62 106,-68 100,-68\"/>\n<text text-anchor=\"start\" x=\"20.5\" y=\"-52.8\" font-family=\"Helvetica,sans-Serif\" font-size=\"14.00\">gini = 0.354</text>\n<text text-anchor=\"start\" x=\"11\" y=\"-37.8\" font-family=\"Helvetica,sans-Serif\" font-size=\"14.00\">samples = 100</text>\n<text text-anchor=\"start\" x=\"9\" y=\"-22.8\" font-family=\"Helvetica,sans-Serif\" font-size=\"14.00\">value = [23, 77]</text>\n<text text-anchor=\"start\" x=\"8\" y=\"-7.8\" font-family=\"Helvetica,sans-Serif\" font-size=\"14.00\">class = Disease</text>\n</g>\n<!-- 2&#45;&gt;3 -->\n<g id=\"edge3\" class=\"edge\">\n<title>2&#45;&gt;3</title>\n<path fill=\"none\" stroke=\"black\" d=\"M144.5,-103.73C132.16,-94.15 119.05,-83.96 106.79,-74.44\"/>\n<polygon fill=\"black\" stroke=\"black\" points=\"108.92,-71.67 98.88,-68.3 104.63,-77.2 108.92,-71.67\"/>\n</g>\n<!-- 4 -->\n<g id=\"node5\" class=\"node\">\n<title>4</title>\n<path fill=\"#ea9b61\" stroke=\"black\" d=\"M251.5,-68C251.5,-68 142.5,-68 142.5,-68 136.5,-68 130.5,-62 130.5,-56 130.5,-56 130.5,-12 130.5,-12 130.5,-6 136.5,0 142.5,0 142.5,0 251.5,0 251.5,0 257.5,0 263.5,-6 263.5,-12 263.5,-12 263.5,-56 263.5,-56 263.5,-62 257.5,-68 251.5,-68\"/>\n<text text-anchor=\"start\" x=\"161.5\" y=\"-52.8\" font-family=\"Helvetica,sans-Serif\" font-size=\"14.00\">gini = 0.281</text>\n<text text-anchor=\"start\" x=\"156\" y=\"-37.8\" font-family=\"Helvetica,sans-Serif\" font-size=\"14.00\">samples = 77</text>\n<text text-anchor=\"start\" x=\"150\" y=\"-22.8\" font-family=\"Helvetica,sans-Serif\" font-size=\"14.00\">value = [64, 13]</text>\n<text text-anchor=\"start\" x=\"138.5\" y=\"-7.8\" font-family=\"Helvetica,sans-Serif\" font-size=\"14.00\">class = No Disease</text>\n</g>\n<!-- 2&#45;&gt;4 -->\n<g id=\"edge4\" class=\"edge\">\n<title>2&#45;&gt;4</title>\n<path fill=\"none\" stroke=\"black\" d=\"M197,-103.73C197,-95.52 197,-86.86 197,-78.56\"/>\n<polygon fill=\"black\" stroke=\"black\" points=\"200.5,-78.3 197,-68.3 193.5,-78.3 200.5,-78.3\"/>\n</g>\n<!-- 6 -->\n<g id=\"node7\" class=\"node\">\n<title>6</title>\n<path fill=\"#f1b991\" stroke=\"black\" d=\"M402.5,-68C402.5,-68 293.5,-68 293.5,-68 287.5,-68 281.5,-62 281.5,-56 281.5,-56 281.5,-12 281.5,-12 281.5,-6 287.5,0 293.5,0 293.5,0 402.5,0 402.5,0 408.5,0 414.5,-6 414.5,-12 414.5,-12 414.5,-56 414.5,-56 414.5,-62 408.5,-68 402.5,-68\"/>\n<text text-anchor=\"start\" x=\"312.5\" y=\"-52.8\" font-family=\"Helvetica,sans-Serif\" font-size=\"14.00\">gini = 0.426</text>\n<text text-anchor=\"start\" x=\"307\" y=\"-37.8\" font-family=\"Helvetica,sans-Serif\" font-size=\"14.00\">samples = 13</text>\n<text text-anchor=\"start\" x=\"308.5\" y=\"-22.8\" font-family=\"Helvetica,sans-Serif\" font-size=\"14.00\">value = [9, 4]</text>\n<text text-anchor=\"start\" x=\"289.5\" y=\"-7.8\" font-family=\"Helvetica,sans-Serif\" font-size=\"14.00\">class = No Disease</text>\n</g>\n<!-- 5&#45;&gt;6 -->\n<g id=\"edge6\" class=\"edge\">\n<title>5&#45;&gt;6</title>\n<path fill=\"none\" stroke=\"black\" d=\"M395.07,-103.73C389.01,-94.88 382.6,-85.51 376.51,-76.63\"/>\n<polygon fill=\"black\" stroke=\"black\" points=\"379.35,-74.57 370.81,-68.3 373.57,-78.53 379.35,-74.57\"/>\n</g>\n<!-- 7 -->\n<g id=\"node8\" class=\"node\">\n<title>7</title>\n<path fill=\"#e6833d\" stroke=\"black\" d=\"M553.5,-68C553.5,-68 444.5,-68 444.5,-68 438.5,-68 432.5,-62 432.5,-56 432.5,-56 432.5,-12 432.5,-12 432.5,-6 438.5,0 444.5,0 444.5,0 553.5,0 553.5,0 559.5,0 565.5,-6 565.5,-12 565.5,-12 565.5,-56 565.5,-56 565.5,-62 559.5,-68 553.5,-68\"/>\n<text text-anchor=\"start\" x=\"463.5\" y=\"-52.8\" font-family=\"Helvetica,sans-Serif\" font-size=\"14.00\">gini = 0.038</text>\n<text text-anchor=\"start\" x=\"454\" y=\"-37.8\" font-family=\"Helvetica,sans-Serif\" font-size=\"14.00\">samples = 208</text>\n<text text-anchor=\"start\" x=\"452\" y=\"-22.8\" font-family=\"Helvetica,sans-Serif\" font-size=\"14.00\">value = [204, 4]</text>\n<text text-anchor=\"start\" x=\"440.5\" y=\"-7.8\" font-family=\"Helvetica,sans-Serif\" font-size=\"14.00\">class = No Disease</text>\n</g>\n<!-- 5&#45;&gt;7 -->\n<g id=\"edge7\" class=\"edge\">\n<title>5&#45;&gt;7</title>\n<path fill=\"none\" stroke=\"black\" d=\"M451.3,-103.73C457.44,-94.88 463.94,-85.51 470.11,-76.63\"/>\n<polygon fill=\"black\" stroke=\"black\" points=\"473.06,-78.51 475.89,-68.3 467.31,-74.52 473.06,-78.51\"/>\n</g>\n<!-- 9 -->\n<g id=\"node10\" class=\"node\">\n<title>9</title>\n<path fill=\"#58ace9\" stroke=\"black\" d=\"M777.5,-187C777.5,-187 684.5,-187 684.5,-187 678.5,-187 672.5,-181 672.5,-175 672.5,-175 672.5,-116 672.5,-116 672.5,-110 678.5,-104 684.5,-104 684.5,-104 777.5,-104 777.5,-104 783.5,-104 789.5,-110 789.5,-116 789.5,-116 789.5,-175 789.5,-175 789.5,-181 783.5,-187 777.5,-187\"/>\n<text text-anchor=\"start\" x=\"690\" y=\"-171.8\" font-family=\"Helvetica,sans-Serif\" font-size=\"14.00\">oldpeak ≤ 2.1</text>\n<text text-anchor=\"start\" x=\"695.5\" y=\"-156.8\" font-family=\"Helvetica,sans-Serif\" font-size=\"14.00\">gini = 0.234</text>\n<text text-anchor=\"start\" x=\"686\" y=\"-141.8\" font-family=\"Helvetica,sans-Serif\" font-size=\"14.00\">samples = 317</text>\n<text text-anchor=\"start\" x=\"680.5\" y=\"-126.8\" font-family=\"Helvetica,sans-Serif\" font-size=\"14.00\">value = [43, 274]</text>\n<text text-anchor=\"start\" x=\"683\" y=\"-111.8\" font-family=\"Helvetica,sans-Serif\" font-size=\"14.00\">class = Disease</text>\n</g>\n<!-- 8&#45;&gt;9 -->\n<g id=\"edge9\" class=\"edge\">\n<title>8&#45;&gt;9</title>\n<path fill=\"none\" stroke=\"black\" d=\"M731,-222.91C731,-214.65 731,-205.86 731,-197.3\"/>\n<polygon fill=\"black\" stroke=\"black\" points=\"734.5,-197.02 731,-187.02 727.5,-197.02 734.5,-197.02\"/>\n</g>\n<!-- 12 -->\n<g id=\"node13\" class=\"node\">\n<title>12</title>\n<path fill=\"#fef8f4\" stroke=\"black\" d=\"M1014.5,-187C1014.5,-187 905.5,-187 905.5,-187 899.5,-187 893.5,-181 893.5,-175 893.5,-175 893.5,-116 893.5,-116 893.5,-110 899.5,-104 905.5,-104 905.5,-104 1014.5,-104 1014.5,-104 1020.5,-104 1026.5,-110 1026.5,-116 1026.5,-116 1026.5,-175 1026.5,-175 1026.5,-181 1020.5,-187 1014.5,-187\"/>\n<text text-anchor=\"start\" x=\"913.5\" y=\"-171.8\" font-family=\"Helvetica,sans-Serif\" font-size=\"14.00\">thalach ≤ 132.5</text>\n<text text-anchor=\"start\" x=\"932\" y=\"-156.8\" font-family=\"Helvetica,sans-Serif\" font-size=\"14.00\">gini = 0.5</text>\n<text text-anchor=\"start\" x=\"915\" y=\"-141.8\" font-family=\"Helvetica,sans-Serif\" font-size=\"14.00\">samples = 105</text>\n<text text-anchor=\"start\" x=\"902\" y=\"-126.8\" font-family=\"Helvetica,sans-Serif\" font-size=\"14.00\">value = [54.0, 51.0]</text>\n<text text-anchor=\"start\" x=\"901.5\" y=\"-111.8\" font-family=\"Helvetica,sans-Serif\" font-size=\"14.00\">class = No Disease</text>\n</g>\n<!-- 8&#45;&gt;12 -->\n<g id=\"edge12\" class=\"edge\">\n<title>8&#45;&gt;12</title>\n<path fill=\"none\" stroke=\"black\" d=\"M789.68,-233.52C818.5,-218.79 853.58,-200.87 884.39,-185.13\"/>\n<polygon fill=\"black\" stroke=\"black\" points=\"886.07,-188.2 893.38,-180.54 882.88,-181.97 886.07,-188.2\"/>\n</g>\n<!-- 10 -->\n<g id=\"node11\" class=\"node\">\n<title>10</title>\n<path fill=\"#4fa8e8\" stroke=\"black\" d=\"M712,-68C712,-68 596,-68 596,-68 590,-68 584,-62 584,-56 584,-56 584,-12 584,-12 584,-6 590,0 596,0 596,0 712,0 712,0 718,0 724,-6 724,-12 724,-12 724,-56 724,-56 724,-62 718,-68 712,-68\"/>\n<text text-anchor=\"start\" x=\"618.5\" y=\"-52.8\" font-family=\"Helvetica,sans-Serif\" font-size=\"14.00\">gini = 0.183</text>\n<text text-anchor=\"start\" x=\"609\" y=\"-37.8\" font-family=\"Helvetica,sans-Serif\" font-size=\"14.00\">samples = 295</text>\n<text text-anchor=\"start\" x=\"592\" y=\"-22.8\" font-family=\"Helvetica,sans-Serif\" font-size=\"14.00\">value = [30.0, 265.0]</text>\n<text text-anchor=\"start\" x=\"606\" y=\"-7.8\" font-family=\"Helvetica,sans-Serif\" font-size=\"14.00\">class = Disease</text>\n</g>\n<!-- 9&#45;&gt;10 -->\n<g id=\"edge10\" class=\"edge\">\n<title>9&#45;&gt;10</title>\n<path fill=\"none\" stroke=\"black\" d=\"M702.33,-103.73C696.11,-94.88 689.52,-85.51 683.27,-76.63\"/>\n<polygon fill=\"black\" stroke=\"black\" points=\"686.03,-74.47 677.42,-68.3 680.31,-78.49 686.03,-74.47\"/>\n</g>\n<!-- 11 -->\n<g id=\"node12\" class=\"node\">\n<title>11</title>\n<path fill=\"#f7d8c2\" stroke=\"black\" d=\"M863.5,-68C863.5,-68 754.5,-68 754.5,-68 748.5,-68 742.5,-62 742.5,-56 742.5,-56 742.5,-12 742.5,-12 742.5,-6 748.5,0 754.5,0 754.5,0 863.5,0 863.5,0 869.5,0 875.5,-6 875.5,-12 875.5,-12 875.5,-56 875.5,-56 875.5,-62 869.5,-68 863.5,-68\"/>\n<text text-anchor=\"start\" x=\"773.5\" y=\"-52.8\" font-family=\"Helvetica,sans-Serif\" font-size=\"14.00\">gini = 0.483</text>\n<text text-anchor=\"start\" x=\"768\" y=\"-37.8\" font-family=\"Helvetica,sans-Serif\" font-size=\"14.00\">samples = 22</text>\n<text text-anchor=\"start\" x=\"766\" y=\"-22.8\" font-family=\"Helvetica,sans-Serif\" font-size=\"14.00\">value = [13, 9]</text>\n<text text-anchor=\"start\" x=\"750.5\" y=\"-7.8\" font-family=\"Helvetica,sans-Serif\" font-size=\"14.00\">class = No Disease</text>\n</g>\n<!-- 9&#45;&gt;11 -->\n<g id=\"edge11\" class=\"edge\">\n<title>9&#45;&gt;11</title>\n<path fill=\"none\" stroke=\"black\" d=\"M760.04,-103.73C766.35,-94.88 773.02,-85.51 779.35,-76.63\"/>\n<polygon fill=\"black\" stroke=\"black\" points=\"782.33,-78.48 785.28,-68.3 776.63,-74.41 782.33,-78.48\"/>\n</g>\n<!-- 13 -->\n<g id=\"node14\" class=\"node\">\n<title>13</title>\n<path fill=\"#e58139\" stroke=\"black\" d=\"M1014.5,-68C1014.5,-68 905.5,-68 905.5,-68 899.5,-68 893.5,-62 893.5,-56 893.5,-56 893.5,-12 893.5,-12 893.5,-6 899.5,0 905.5,0 905.5,0 1014.5,0 1014.5,0 1020.5,0 1026.5,-6 1026.5,-12 1026.5,-12 1026.5,-56 1026.5,-56 1026.5,-62 1020.5,-68 1014.5,-68\"/>\n<text text-anchor=\"start\" x=\"932\" y=\"-52.8\" font-family=\"Helvetica,sans-Serif\" font-size=\"14.00\">gini = 0.0</text>\n<text text-anchor=\"start\" x=\"919\" y=\"-37.8\" font-family=\"Helvetica,sans-Serif\" font-size=\"14.00\">samples = 15</text>\n<text text-anchor=\"start\" x=\"917\" y=\"-22.8\" font-family=\"Helvetica,sans-Serif\" font-size=\"14.00\">value = [15, 0]</text>\n<text text-anchor=\"start\" x=\"901.5\" y=\"-7.8\" font-family=\"Helvetica,sans-Serif\" font-size=\"14.00\">class = No Disease</text>\n</g>\n<!-- 12&#45;&gt;13 -->\n<g id=\"edge13\" class=\"edge\">\n<title>12&#45;&gt;13</title>\n<path fill=\"none\" stroke=\"black\" d=\"M960,-103.73C960,-95.52 960,-86.86 960,-78.56\"/>\n<polygon fill=\"black\" stroke=\"black\" points=\"963.5,-78.3 960,-68.3 956.5,-78.3 963.5,-78.3\"/>\n</g>\n<!-- 14 -->\n<g id=\"node15\" class=\"node\">\n<title>14</title>\n<path fill=\"#d0e8f9\" stroke=\"black\" d=\"M1145,-68C1145,-68 1057,-68 1057,-68 1051,-68 1045,-62 1045,-56 1045,-56 1045,-12 1045,-12 1045,-6 1051,0 1057,0 1057,0 1145,0 1145,0 1151,0 1157,-6 1157,-12 1157,-12 1157,-56 1157,-56 1157,-62 1151,-68 1145,-68\"/>\n<text text-anchor=\"start\" x=\"1065.5\" y=\"-52.8\" font-family=\"Helvetica,sans-Serif\" font-size=\"14.00\">gini = 0.491</text>\n<text text-anchor=\"start\" x=\"1060\" y=\"-37.8\" font-family=\"Helvetica,sans-Serif\" font-size=\"14.00\">samples = 90</text>\n<text text-anchor=\"start\" x=\"1054\" y=\"-22.8\" font-family=\"Helvetica,sans-Serif\" font-size=\"14.00\">value = [39, 51]</text>\n<text text-anchor=\"start\" x=\"1053\" y=\"-7.8\" font-family=\"Helvetica,sans-Serif\" font-size=\"14.00\">class = Disease</text>\n</g>\n<!-- 12&#45;&gt;14 -->\n<g id=\"edge14\" class=\"edge\">\n<title>12&#45;&gt;14</title>\n<path fill=\"none\" stroke=\"black\" d=\"M1012.5,-103.73C1024.84,-94.15 1037.95,-83.96 1050.21,-74.44\"/>\n<polygon fill=\"black\" stroke=\"black\" points=\"1052.37,-77.2 1058.12,-68.3 1048.08,-71.67 1052.37,-77.2\"/>\n</g>\n</g>\n</svg>\n",
            "text/plain": [
              "<graphviz.sources.Source at 0x780792959f90>"
            ]
          },
          "metadata": {},
          "execution_count": 6
        }
      ]
    },
    {
      "cell_type": "code",
      "source": [
        "# Depth-limited tree\n",
        "dt_limited = DecisionTreeClassifier(max_depth=3, random_state=42)\n",
        "dt_limited.fit(X_train, y_train)\n",
        "\n",
        "print(\"Depth-limited Accuracy:\", accuracy_score(y_test, dt_limited.predict(X_test)))\n"
      ],
      "metadata": {
        "colab": {
          "base_uri": "https://localhost:8080/"
        },
        "id": "iZCdSVtj0Nx4",
        "outputId": "5f8cc488-8474-4f02-ac4a-5a2ef07a0c26"
      },
      "execution_count": 10,
      "outputs": [
        {
          "output_type": "stream",
          "name": "stdout",
          "text": [
            "Depth-limited Accuracy: 0.7804878048780488\n"
          ]
        }
      ]
    },
    {
      "cell_type": "code",
      "source": [
        "from sklearn.ensemble import RandomForestClassifier\n",
        "\n",
        "rf = RandomForestClassifier(random_state=42)\n",
        "rf.fit(X_train, y_train)\n",
        "\n",
        "print(\"Random Forest Accuracy:\", accuracy_score(y_test, rf.predict(X_test)))\n"
      ],
      "metadata": {
        "colab": {
          "base_uri": "https://localhost:8080/"
        },
        "id": "fGGgYZ1XzS3h",
        "outputId": "8d59d2df-3380-43f0-c2aa-27bbb6ff7b54"
      },
      "execution_count": 7,
      "outputs": [
        {
          "output_type": "stream",
          "name": "stdout",
          "text": [
            "Random Forest Accuracy: 0.9853658536585366\n"
          ]
        }
      ]
    },
    {
      "cell_type": "code",
      "source": [
        "import matplotlib.pyplot as plt\n",
        "import numpy as np\n",
        "\n",
        "importances = rf.feature_importances_\n",
        "indices = np.argsort(importances)[::-1]\n",
        "\n",
        "plt.figure(figsize=(10, 5))\n",
        "plt.title(\"Feature Importances\")\n",
        "plt.bar(range(X.shape[1]), importances[indices])\n",
        "plt.xticks(range(X.shape[1]), X.columns[indices], rotation=90)\n",
        "plt.tight_layout()\n",
        "plt.show()\n"
      ],
      "metadata": {
        "colab": {
          "base_uri": "https://localhost:8080/",
          "height": 506
        },
        "id": "XKZSAjt9zYSq",
        "outputId": "27e69cdd-2abe-4c50-b07b-5b83374643e8"
      },
      "execution_count": 8,
      "outputs": [
        {
          "output_type": "display_data",
          "data": {
            "text/plain": [
              "<Figure size 1000x500 with 1 Axes>"
            ],
            "image/png": "[encoded data removed]"
          },
          "metadata": {}
        }
      ]
    },
    {
      "cell_type": "code",
      "source": [
        "from sklearn.model_selection import cross_val_score\n",
        "\n",
        "cv_scores = cross_val_score(rf, X, y, cv=5)\n",
        "print(\"Cross-Validation Scores:\", cv_scores)\n",
        "print(\"Mean CV Accuracy:\", cv_scores.mean())\n"
      ],
      "metadata": {
        "colab": {
          "base_uri": "https://localhost:8080/"
        },
        "id": "nsU-ctdlzdbw",
        "outputId": "7b18f9ac-1d95-4876-9abe-f565a45de799"
      },
      "execution_count": 9,
      "outputs": [
        {
          "output_type": "stream",
          "name": "stdout",
          "text": [
            "Cross-Validation Scores: [1.         1.         1.         1.         0.98536585]\n",
            "Mean CV Accuracy: 0.9970731707317073\n"
          ]
        }
      ]
    }
  ]
}